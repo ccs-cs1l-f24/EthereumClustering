{
 "cells": [
  {
   "cell_type": "markdown",
   "metadata": {},
   "source": [
    "# Constructing the Social Network\n",
    "We can construct a graph $G = (V,E)$ where $V$ is a set of Ethereum addresses that have completed at least one transaction. We can then label these addresses (which may or may not be null). Then, $E$ is the set of arcs where $(n_i, n_j, TrS_{ij}) \\in E$ if there is at least one transaction from $n_i$ to $n_j$. Note that $TrS_{ij}$ consists of a set of triplets $(tr_{ij_k}, \\tau_{ij_k}, v_{ij_k})$ where $tr_{ij_k}$ is the $k^{th}$ transaction from $n_i$ to $n_j$, $\\tau_{ij_k}$ is the timestamp, and $v_{ij_k}$ is the amount of Wei transferred.\n",
    "\n",
    "Then, we can select a few factors from Social Network Analysis to characterize each address:\n",
    "1. In degree\n",
    "2. Out degree\n",
    "3. In transaction\n",
    "4. Out transaction\n",
    "5. In value\n",
    "6. Out value\n",
    "7. Clustering coefficient\n",
    "8. PageRank"
   ]
  },
  {
   "cell_type": "markdown",
   "metadata": {},
   "source": [
    "# Eros Distance (Extended Frobenius Norm)\n",
    "\n",
    "Let $A$ and $B$ be two multivariate time series of size $m_A \\times n$ and $m_B \\times n$ respectively, where $m_A, m_B$ are the number of observations and $n$ is the number of factors. Then, construct the covariance matrices and denote these as $M_A, M_B$. Then, apply SVD to these matrices to construct the right eigenvectors matrices $V_A, V_B$. Let $V_A = [a_1, \\dots, a_n]$ and $V_B = [b_1, \\dots, b_n]$, where $a_i,b_i$ are column orthonormal vectors of size $n$. Then, $$\\text{Eros} (A,B,w) = \\sum_{i=1}^n w_i | \\langle a_i, b_i \\rangle | = \\sum_{i=1}^n w_i | \\cos \\theta_i |$$"
   ]
  },
  {
   "cell_type": "markdown",
   "metadata": {},
   "source": [
    "## Example\n",
    "Here, we will construct two random matrices, $A,B$, and find their Eros distance."
   ]
  },
  {
   "cell_type": "code",
   "execution_count": 2,
   "metadata": {},
   "outputs": [],
   "source": [
    "import numpy as np\n",
    "import numpy.linalg as npla"
   ]
  },
  {
   "cell_type": "markdown",
   "metadata": {},
   "source": []
  },
  {
   "cell_type": "code",
   "execution_count": 4,
   "metadata": {},
   "outputs": [
    {
     "name": "stdout",
     "output_type": "stream",
     "text": [
      "[2.73090901e+03 2.23367221e+03 1.79369299e+03 1.29679466e+03\n",
      " 8.18001785e+02 6.40395934e+02 2.47715953e+02 6.58452369e+01\n",
      " 1.74907078e-13 2.25198440e-14]\n",
      "[8.37352067e+03 7.29417913e+03 6.18836747e+03 5.48969222e+03\n",
      " 4.71539477e+03 4.52091601e+03 3.48972878e+03 3.22620096e+03\n",
      " 6.79321325e-13 6.79321325e-13 6.79321325e-13 6.79321325e-13\n",
      " 6.79321325e-13 6.79321325e-13 6.79321325e-13 6.79321325e-13\n",
      " 6.79321325e-13 6.79321325e-13 6.79321325e-13 6.79321325e-13\n",
      " 6.79321325e-13 6.79321325e-13 6.79321325e-13 6.79321325e-13\n",
      " 6.79321325e-13 6.79321325e-13 6.79321325e-13 6.79321325e-13\n",
      " 6.79321325e-13 6.79321325e-13 6.79321325e-13 6.79321325e-13\n",
      " 6.79321325e-13 6.79321325e-13 6.79321325e-13 6.79321325e-13\n",
      " 6.79321325e-13 6.79321325e-13 6.79321325e-13 6.79321325e-13\n",
      " 6.79321325e-13 6.79321325e-13 6.79321325e-13 6.79321325e-13\n",
      " 6.79321325e-13 6.79321325e-13 6.79321325e-13 6.79321325e-13\n",
      " 6.79321325e-13 5.89100531e-13]\n"
     ]
    },
    {
     "ename": "NameError",
     "evalue": "name 'weights' is not defined",
     "output_type": "error",
     "traceback": [
      "\u001b[0;31m---------------------------------------------------------------------------\u001b[0m",
      "\u001b[0;31mNameError\u001b[0m                                 Traceback (most recent call last)",
      "Cell \u001b[0;32mIn[4], line 24\u001b[0m\n\u001b[1;32m     22\u001b[0m A \u001b[38;5;241m=\u001b[39m np\u001b[38;5;241m.\u001b[39mrandom\u001b[38;5;241m.\u001b[39mrandint(\u001b[38;5;241m100\u001b[39m, size\u001b[38;5;241m=\u001b[39m(\u001b[38;5;241m10\u001b[39m, \u001b[38;5;241m9\u001b[39m))\n\u001b[1;32m     23\u001b[0m B \u001b[38;5;241m=\u001b[39m np\u001b[38;5;241m.\u001b[39mrandom\u001b[38;5;241m.\u001b[39mrandint(\u001b[38;5;241m100\u001b[39m, size\u001b[38;5;241m=\u001b[39m(\u001b[38;5;241m50\u001b[39m, \u001b[38;5;241m9\u001b[39m))\n\u001b[0;32m---> 24\u001b[0m \u001b[43mEros\u001b[49m\u001b[43m(\u001b[49m\u001b[43mA\u001b[49m\u001b[43m,\u001b[49m\u001b[43mB\u001b[49m\u001b[43m)\u001b[49m\n",
      "Cell \u001b[0;32mIn[4], line 18\u001b[0m, in \u001b[0;36mEros\u001b[0;34m(A, B)\u001b[0m\n\u001b[1;32m     16\u001b[0m result \u001b[38;5;241m=\u001b[39m \u001b[38;5;241m0\u001b[39m\n\u001b[1;32m     17\u001b[0m \u001b[38;5;28;01mfor\u001b[39;00m i \u001b[38;5;129;01min\u001b[39;00m \u001b[38;5;28mrange\u001b[39m(n):\n\u001b[0;32m---> 18\u001b[0m     result \u001b[38;5;241m+\u001b[39m\u001b[38;5;241m=\u001b[39m \u001b[43mweights\u001b[49m[i] \u001b[38;5;241m*\u001b[39m np\u001b[38;5;241m.\u001b[39mabs(cosine_similarity(V_A[i], V_B[i]))\n\u001b[1;32m     20\u001b[0m \u001b[38;5;28;01mreturn\u001b[39;00m result\n",
      "\u001b[0;31mNameError\u001b[0m: name 'weights' is not defined"
     ]
    }
   ],
   "source": [
    "def cosine_similarity(a, b):\n",
    "    return np.dot(a,b) / (npla.norm(a) * npla.norm(b))\n",
    "\n",
    "def Eros(A, B, weights):\n",
    "    n = np.shape(A)[1]\n",
    "\n",
    "    cov_A = np.cov(A)\n",
    "    cov_B = np.cov(B)\n",
    "\n",
    "    U_A, S_A, V_A = npla.svd(cov_A)\n",
    "    U_B, S_B, V_B = npla.svd(cov_B)\n",
    "\n",
    "    result = 0\n",
    "    for i in range(n):\n",
    "        result += weights[i] * np.abs(cosine_similarity(V_A[i], V_B[i]))\n",
    "    \n",
    "    return result\n",
    "\n",
    "A = np.random.randint(100, size=(10, 9))\n",
    "B = np.random.randint(100, size=(50, 9))\n",
    "\n",
    "Eros(A,B)"
   ]
  }
 ],
 "metadata": {
  "kernelspec": {
   "display_name": ".venv",
   "language": "python",
   "name": "python3"
  },
  "language_info": {
   "codemirror_mode": {
    "name": "ipython",
    "version": 3
   },
   "file_extension": ".py",
   "mimetype": "text/x-python",
   "name": "python",
   "nbconvert_exporter": "python",
   "pygments_lexer": "ipython3",
   "version": "3.10.12"
  }
 },
 "nbformat": 4,
 "nbformat_minor": 2
}
